{
  "cells": [
    {
      "cell_type": "markdown",
      "metadata": {
        "id": "lcZYCvNwYR9S"
      },
      "source": [
        "# 1. Linear Regression"
      ]
    },
    {
      "cell_type": "markdown",
      "metadata": {
        "id": "sTOP_eddYR9U"
      },
      "source": [
        "## 1.1 Understanding the data"
      ]
    },
    {
      "cell_type": "markdown",
      "metadata": {
        "id": "iaDBvquFYR9U"
      },
      "source": [
        "### 0. Import libraries\n",
        "\n"
      ]
    },
    {
      "cell_type": "code",
      "execution_count": 208,
      "metadata": {
        "id": "wv4O7UcTYR9U"
      },
      "outputs": [],
      "source": [
        "import numpy as np\n",
        "import pandas as pd\n",
        "import matplotlib.pyplot as plt"
      ]
    },
    {
      "cell_type": "markdown",
      "metadata": {
        "id": "FzwhwaLIYR9V"
      },
      "source": [
        "### 1. Load the dataset\n"
      ]
    },
    {
      "cell_type": "code",
      "execution_count": 209,
      "metadata": {
        "colab": {
          "base_uri": "https://localhost:8080/",
          "height": 423
        },
        "id": "ILGrKVbsYR9V",
        "outputId": "a60027f0-dab2-4361-c6da-a3b62c7b4f49"
      },
      "outputs": [
        {
          "data": {
            "text/html": [
              "<div>\n",
              "<style scoped>\n",
              "    .dataframe tbody tr th:only-of-type {\n",
              "        vertical-align: middle;\n",
              "    }\n",
              "\n",
              "    .dataframe tbody tr th {\n",
              "        vertical-align: top;\n",
              "    }\n",
              "\n",
              "    .dataframe thead th {\n",
              "        text-align: right;\n",
              "    }\n",
              "</style>\n",
              "<table border=\"1\" class=\"dataframe\">\n",
              "  <thead>\n",
              "    <tr style=\"text-align: right;\">\n",
              "      <th></th>\n",
              "      <th>Year</th>\n",
              "      <th>Month</th>\n",
              "      <th>MEI</th>\n",
              "      <th>CO2</th>\n",
              "      <th>CH4</th>\n",
              "      <th>N2O</th>\n",
              "      <th>CFC-11</th>\n",
              "      <th>CFC-12</th>\n",
              "      <th>TSI</th>\n",
              "      <th>Aerosols</th>\n",
              "      <th>Temp</th>\n",
              "    </tr>\n",
              "  </thead>\n",
              "  <tbody>\n",
              "    <tr>\n",
              "      <th>0</th>\n",
              "      <td>1983</td>\n",
              "      <td>5</td>\n",
              "      <td>2.556</td>\n",
              "      <td>345.96</td>\n",
              "      <td>1638.59</td>\n",
              "      <td>303.677</td>\n",
              "      <td>191.324</td>\n",
              "      <td>350.113</td>\n",
              "      <td>1366.1024</td>\n",
              "      <td>0.0863</td>\n",
              "      <td>0.109</td>\n",
              "    </tr>\n",
              "    <tr>\n",
              "      <th>1</th>\n",
              "      <td>1983</td>\n",
              "      <td>6</td>\n",
              "      <td>2.167</td>\n",
              "      <td>345.52</td>\n",
              "      <td>1633.71</td>\n",
              "      <td>303.746</td>\n",
              "      <td>192.057</td>\n",
              "      <td>351.848</td>\n",
              "      <td>1366.1208</td>\n",
              "      <td>0.0794</td>\n",
              "      <td>0.118</td>\n",
              "    </tr>\n",
              "    <tr>\n",
              "      <th>2</th>\n",
              "      <td>1983</td>\n",
              "      <td>7</td>\n",
              "      <td>1.741</td>\n",
              "      <td>344.15</td>\n",
              "      <td>1633.22</td>\n",
              "      <td>303.795</td>\n",
              "      <td>192.818</td>\n",
              "      <td>353.725</td>\n",
              "      <td>1366.2850</td>\n",
              "      <td>0.0731</td>\n",
              "      <td>0.137</td>\n",
              "    </tr>\n",
              "    <tr>\n",
              "      <th>3</th>\n",
              "      <td>1983</td>\n",
              "      <td>8</td>\n",
              "      <td>1.130</td>\n",
              "      <td>342.25</td>\n",
              "      <td>1631.35</td>\n",
              "      <td>303.839</td>\n",
              "      <td>193.602</td>\n",
              "      <td>355.633</td>\n",
              "      <td>1366.4202</td>\n",
              "      <td>0.0673</td>\n",
              "      <td>0.176</td>\n",
              "    </tr>\n",
              "    <tr>\n",
              "      <th>4</th>\n",
              "      <td>1983</td>\n",
              "      <td>9</td>\n",
              "      <td>0.428</td>\n",
              "      <td>340.17</td>\n",
              "      <td>1648.40</td>\n",
              "      <td>303.901</td>\n",
              "      <td>194.392</td>\n",
              "      <td>357.465</td>\n",
              "      <td>1366.2335</td>\n",
              "      <td>0.0619</td>\n",
              "      <td>0.149</td>\n",
              "    </tr>\n",
              "    <tr>\n",
              "      <th>...</th>\n",
              "      <td>...</td>\n",
              "      <td>...</td>\n",
              "      <td>...</td>\n",
              "      <td>...</td>\n",
              "      <td>...</td>\n",
              "      <td>...</td>\n",
              "      <td>...</td>\n",
              "      <td>...</td>\n",
              "      <td>...</td>\n",
              "      <td>...</td>\n",
              "      <td>...</td>\n",
              "    </tr>\n",
              "    <tr>\n",
              "      <th>303</th>\n",
              "      <td>2008</td>\n",
              "      <td>8</td>\n",
              "      <td>-0.266</td>\n",
              "      <td>384.15</td>\n",
              "      <td>1779.88</td>\n",
              "      <td>321.405</td>\n",
              "      <td>244.200</td>\n",
              "      <td>535.072</td>\n",
              "      <td>1365.6570</td>\n",
              "      <td>0.0036</td>\n",
              "      <td>0.407</td>\n",
              "    </tr>\n",
              "    <tr>\n",
              "      <th>304</th>\n",
              "      <td>2008</td>\n",
              "      <td>9</td>\n",
              "      <td>-0.643</td>\n",
              "      <td>383.09</td>\n",
              "      <td>1795.08</td>\n",
              "      <td>321.529</td>\n",
              "      <td>244.083</td>\n",
              "      <td>535.048</td>\n",
              "      <td>1365.6647</td>\n",
              "      <td>0.0043</td>\n",
              "      <td>0.378</td>\n",
              "    </tr>\n",
              "    <tr>\n",
              "      <th>305</th>\n",
              "      <td>2008</td>\n",
              "      <td>10</td>\n",
              "      <td>-0.780</td>\n",
              "      <td>382.99</td>\n",
              "      <td>1814.18</td>\n",
              "      <td>321.796</td>\n",
              "      <td>244.080</td>\n",
              "      <td>534.927</td>\n",
              "      <td>1365.6759</td>\n",
              "      <td>0.0046</td>\n",
              "      <td>0.440</td>\n",
              "    </tr>\n",
              "    <tr>\n",
              "      <th>306</th>\n",
              "      <td>2008</td>\n",
              "      <td>11</td>\n",
              "      <td>-0.621</td>\n",
              "      <td>384.13</td>\n",
              "      <td>1812.37</td>\n",
              "      <td>322.013</td>\n",
              "      <td>244.225</td>\n",
              "      <td>534.906</td>\n",
              "      <td>1365.7065</td>\n",
              "      <td>0.0048</td>\n",
              "      <td>0.394</td>\n",
              "    </tr>\n",
              "    <tr>\n",
              "      <th>307</th>\n",
              "      <td>2008</td>\n",
              "      <td>12</td>\n",
              "      <td>-0.666</td>\n",
              "      <td>385.56</td>\n",
              "      <td>1812.88</td>\n",
              "      <td>322.182</td>\n",
              "      <td>244.204</td>\n",
              "      <td>535.005</td>\n",
              "      <td>1365.6926</td>\n",
              "      <td>0.0046</td>\n",
              "      <td>0.330</td>\n",
              "    </tr>\n",
              "  </tbody>\n",
              "</table>\n",
              "<p>308 rows × 11 columns</p>\n",
              "</div>"
            ],
            "text/plain": [
              "     Year  Month    MEI     CO2      CH4      N2O   CFC-11   CFC-12  \\\n",
              "0    1983      5  2.556  345.96  1638.59  303.677  191.324  350.113   \n",
              "1    1983      6  2.167  345.52  1633.71  303.746  192.057  351.848   \n",
              "2    1983      7  1.741  344.15  1633.22  303.795  192.818  353.725   \n",
              "3    1983      8  1.130  342.25  1631.35  303.839  193.602  355.633   \n",
              "4    1983      9  0.428  340.17  1648.40  303.901  194.392  357.465   \n",
              "..    ...    ...    ...     ...      ...      ...      ...      ...   \n",
              "303  2008      8 -0.266  384.15  1779.88  321.405  244.200  535.072   \n",
              "304  2008      9 -0.643  383.09  1795.08  321.529  244.083  535.048   \n",
              "305  2008     10 -0.780  382.99  1814.18  321.796  244.080  534.927   \n",
              "306  2008     11 -0.621  384.13  1812.37  322.013  244.225  534.906   \n",
              "307  2008     12 -0.666  385.56  1812.88  322.182  244.204  535.005   \n",
              "\n",
              "           TSI  Aerosols   Temp  \n",
              "0    1366.1024    0.0863  0.109  \n",
              "1    1366.1208    0.0794  0.118  \n",
              "2    1366.2850    0.0731  0.137  \n",
              "3    1366.4202    0.0673  0.176  \n",
              "4    1366.2335    0.0619  0.149  \n",
              "..         ...       ...    ...  \n",
              "303  1365.6570    0.0036  0.407  \n",
              "304  1365.6647    0.0043  0.378  \n",
              "305  1365.6759    0.0046  0.440  \n",
              "306  1365.7065    0.0048  0.394  \n",
              "307  1365.6926    0.0046  0.330  \n",
              "\n",
              "[308 rows x 11 columns]"
            ]
          },
          "execution_count": 209,
          "metadata": {},
          "output_type": "execute_result"
        }
      ],
      "source": [
        "data = pd.read_csv(\"climate_change.csv\")\n",
        "data"
      ]
    },
    {
      "cell_type": "markdown",
      "metadata": {
        "id": "6FxrBjGzYR9W"
      },
      "source": [
        "### 2. Take a look at some samples of your dataset\n"
      ]
    },
    {
      "cell_type": "code",
      "execution_count": 210,
      "metadata": {
        "colab": {
          "base_uri": "https://localhost:8080/",
          "height": 206
        },
        "id": "h9szDStxYR9W",
        "outputId": "8d36831a-d649-45ae-a2db-4c27ffad8034"
      },
      "outputs": [
        {
          "data": {
            "text/html": [
              "<div>\n",
              "<style scoped>\n",
              "    .dataframe tbody tr th:only-of-type {\n",
              "        vertical-align: middle;\n",
              "    }\n",
              "\n",
              "    .dataframe tbody tr th {\n",
              "        vertical-align: top;\n",
              "    }\n",
              "\n",
              "    .dataframe thead th {\n",
              "        text-align: right;\n",
              "    }\n",
              "</style>\n",
              "<table border=\"1\" class=\"dataframe\">\n",
              "  <thead>\n",
              "    <tr style=\"text-align: right;\">\n",
              "      <th></th>\n",
              "      <th>Year</th>\n",
              "      <th>Month</th>\n",
              "      <th>MEI</th>\n",
              "      <th>CO2</th>\n",
              "      <th>CH4</th>\n",
              "      <th>N2O</th>\n",
              "      <th>CFC-11</th>\n",
              "      <th>CFC-12</th>\n",
              "      <th>TSI</th>\n",
              "      <th>Aerosols</th>\n",
              "      <th>Temp</th>\n",
              "    </tr>\n",
              "  </thead>\n",
              "  <tbody>\n",
              "    <tr>\n",
              "      <th>79</th>\n",
              "      <td>1989</td>\n",
              "      <td>12</td>\n",
              "      <td>0.142</td>\n",
              "      <td>352.84</td>\n",
              "      <td>1730.61</td>\n",
              "      <td>308.558</td>\n",
              "      <td>259.472</td>\n",
              "      <td>475.630</td>\n",
              "      <td>1366.8784</td>\n",
              "      <td>0.0054</td>\n",
              "      <td>0.181</td>\n",
              "    </tr>\n",
              "    <tr>\n",
              "      <th>228</th>\n",
              "      <td>2002</td>\n",
              "      <td>5</td>\n",
              "      <td>0.778</td>\n",
              "      <td>375.65</td>\n",
              "      <td>1778.81</td>\n",
              "      <td>316.806</td>\n",
              "      <td>259.153</td>\n",
              "      <td>543.053</td>\n",
              "      <td>1366.6470</td>\n",
              "      <td>0.0019</td>\n",
              "      <td>0.432</td>\n",
              "    </tr>\n",
              "    <tr>\n",
              "      <th>188</th>\n",
              "      <td>1999</td>\n",
              "      <td>1</td>\n",
              "      <td>-1.149</td>\n",
              "      <td>368.12</td>\n",
              "      <td>1796.25</td>\n",
              "      <td>314.589</td>\n",
              "      <td>266.016</td>\n",
              "      <td>538.872</td>\n",
              "      <td>1366.4773</td>\n",
              "      <td>0.0022</td>\n",
              "      <td>0.366</td>\n",
              "    </tr>\n",
              "    <tr>\n",
              "      <th>4</th>\n",
              "      <td>1983</td>\n",
              "      <td>9</td>\n",
              "      <td>0.428</td>\n",
              "      <td>340.17</td>\n",
              "      <td>1648.40</td>\n",
              "      <td>303.901</td>\n",
              "      <td>194.392</td>\n",
              "      <td>357.465</td>\n",
              "      <td>1366.2335</td>\n",
              "      <td>0.0619</td>\n",
              "      <td>0.149</td>\n",
              "    </tr>\n",
              "    <tr>\n",
              "      <th>68</th>\n",
              "      <td>1989</td>\n",
              "      <td>1</td>\n",
              "      <td>-1.166</td>\n",
              "      <td>352.89</td>\n",
              "      <td>1721.48</td>\n",
              "      <td>307.609</td>\n",
              "      <td>252.554</td>\n",
              "      <td>459.549</td>\n",
              "      <td>1366.5409</td>\n",
              "      <td>0.0072</td>\n",
              "      <td>0.019</td>\n",
              "    </tr>\n",
              "  </tbody>\n",
              "</table>\n",
              "</div>"
            ],
            "text/plain": [
              "     Year  Month    MEI     CO2      CH4      N2O   CFC-11   CFC-12  \\\n",
              "79   1989     12  0.142  352.84  1730.61  308.558  259.472  475.630   \n",
              "228  2002      5  0.778  375.65  1778.81  316.806  259.153  543.053   \n",
              "188  1999      1 -1.149  368.12  1796.25  314.589  266.016  538.872   \n",
              "4    1983      9  0.428  340.17  1648.40  303.901  194.392  357.465   \n",
              "68   1989      1 -1.166  352.89  1721.48  307.609  252.554  459.549   \n",
              "\n",
              "           TSI  Aerosols   Temp  \n",
              "79   1366.8784    0.0054  0.181  \n",
              "228  1366.6470    0.0019  0.432  \n",
              "188  1366.4773    0.0022  0.366  \n",
              "4    1366.2335    0.0619  0.149  \n",
              "68   1366.5409    0.0072  0.019  "
            ]
          },
          "execution_count": 210,
          "metadata": {},
          "output_type": "execute_result"
        }
      ],
      "source": [
        "data.sample(5)"
      ]
    },
    {
      "cell_type": "markdown",
      "metadata": {
        "id": "SFBtz0KFYR9W"
      },
      "source": [
        "### 3. How many sample are there in the dataset?"
      ]
    },
    {
      "cell_type": "markdown",
      "metadata": {
        "id": "cojrwF5IYR9X"
      },
      "source": [
        "#### **Answer** : 308 samples and 11 features"
      ]
    },
    {
      "cell_type": "code",
      "execution_count": 211,
      "metadata": {
        "colab": {
          "base_uri": "https://localhost:8080/"
        },
        "id": "ZBZzV9gqYR9W",
        "outputId": "6d4a6387-7060-4df0-ca12-8def32411ca4"
      },
      "outputs": [
        {
          "data": {
            "text/plain": [
              "(308, 11)"
            ]
          },
          "execution_count": 211,
          "metadata": {},
          "output_type": "execute_result"
        }
      ],
      "source": [
        "data.shape"
      ]
    },
    {
      "cell_type": "markdown",
      "metadata": {
        "id": "62AU_TVPYR9X"
      },
      "source": [
        "### 4. Average temperature is under the heading ’Temp’. What is the mean value of Temp? How about the mean values of CO2, NO2 and CH4?\n"
      ]
    },
    {
      "cell_type": "code",
      "execution_count": 212,
      "metadata": {
        "colab": {
          "base_uri": "https://localhost:8080/",
          "height": 300
        },
        "id": "AabXUo3JYR9X",
        "outputId": "cda7ae0d-bb74-4075-941a-8ae1b9cd337d"
      },
      "outputs": [
        {
          "data": {
            "text/html": [
              "<div>\n",
              "<style scoped>\n",
              "    .dataframe tbody tr th:only-of-type {\n",
              "        vertical-align: middle;\n",
              "    }\n",
              "\n",
              "    .dataframe tbody tr th {\n",
              "        vertical-align: top;\n",
              "    }\n",
              "\n",
              "    .dataframe thead th {\n",
              "        text-align: right;\n",
              "    }\n",
              "</style>\n",
              "<table border=\"1\" class=\"dataframe\">\n",
              "  <thead>\n",
              "    <tr style=\"text-align: right;\">\n",
              "      <th></th>\n",
              "      <th>Year</th>\n",
              "      <th>Month</th>\n",
              "      <th>MEI</th>\n",
              "      <th>CO2</th>\n",
              "      <th>CH4</th>\n",
              "      <th>N2O</th>\n",
              "      <th>CFC-11</th>\n",
              "      <th>CFC-12</th>\n",
              "      <th>TSI</th>\n",
              "      <th>Aerosols</th>\n",
              "      <th>Temp</th>\n",
              "    </tr>\n",
              "  </thead>\n",
              "  <tbody>\n",
              "    <tr>\n",
              "      <th>count</th>\n",
              "      <td>308.000000</td>\n",
              "      <td>308.000000</td>\n",
              "      <td>308.000000</td>\n",
              "      <td>308.000000</td>\n",
              "      <td>308.000000</td>\n",
              "      <td>308.000000</td>\n",
              "      <td>308.000000</td>\n",
              "      <td>308.000000</td>\n",
              "      <td>308.000000</td>\n",
              "      <td>308.000000</td>\n",
              "      <td>308.000000</td>\n",
              "    </tr>\n",
              "    <tr>\n",
              "      <th>mean</th>\n",
              "      <td>1995.662338</td>\n",
              "      <td>6.551948</td>\n",
              "      <td>0.275555</td>\n",
              "      <td>363.226753</td>\n",
              "      <td>1749.824513</td>\n",
              "      <td>312.391834</td>\n",
              "      <td>251.973068</td>\n",
              "      <td>497.524782</td>\n",
              "      <td>1366.070759</td>\n",
              "      <td>0.016657</td>\n",
              "      <td>0.256776</td>\n",
              "    </tr>\n",
              "    <tr>\n",
              "      <th>std</th>\n",
              "      <td>7.423197</td>\n",
              "      <td>3.447214</td>\n",
              "      <td>0.937918</td>\n",
              "      <td>12.647125</td>\n",
              "      <td>46.051678</td>\n",
              "      <td>5.225131</td>\n",
              "      <td>20.231783</td>\n",
              "      <td>57.826899</td>\n",
              "      <td>0.399610</td>\n",
              "      <td>0.029050</td>\n",
              "      <td>0.179090</td>\n",
              "    </tr>\n",
              "    <tr>\n",
              "      <th>min</th>\n",
              "      <td>1983.000000</td>\n",
              "      <td>1.000000</td>\n",
              "      <td>-1.635000</td>\n",
              "      <td>340.170000</td>\n",
              "      <td>1629.890000</td>\n",
              "      <td>303.677000</td>\n",
              "      <td>191.324000</td>\n",
              "      <td>350.113000</td>\n",
              "      <td>1365.426100</td>\n",
              "      <td>0.001600</td>\n",
              "      <td>-0.282000</td>\n",
              "    </tr>\n",
              "    <tr>\n",
              "      <th>25%</th>\n",
              "      <td>1989.000000</td>\n",
              "      <td>4.000000</td>\n",
              "      <td>-0.398750</td>\n",
              "      <td>353.020000</td>\n",
              "      <td>1722.182500</td>\n",
              "      <td>308.111500</td>\n",
              "      <td>246.295500</td>\n",
              "      <td>472.410750</td>\n",
              "      <td>1365.717050</td>\n",
              "      <td>0.002800</td>\n",
              "      <td>0.121750</td>\n",
              "    </tr>\n",
              "    <tr>\n",
              "      <th>50%</th>\n",
              "      <td>1996.000000</td>\n",
              "      <td>7.000000</td>\n",
              "      <td>0.237500</td>\n",
              "      <td>361.735000</td>\n",
              "      <td>1764.040000</td>\n",
              "      <td>311.507000</td>\n",
              "      <td>258.344000</td>\n",
              "      <td>528.356000</td>\n",
              "      <td>1365.980900</td>\n",
              "      <td>0.005750</td>\n",
              "      <td>0.248000</td>\n",
              "    </tr>\n",
              "    <tr>\n",
              "      <th>75%</th>\n",
              "      <td>2002.000000</td>\n",
              "      <td>10.000000</td>\n",
              "      <td>0.830500</td>\n",
              "      <td>373.455000</td>\n",
              "      <td>1786.885000</td>\n",
              "      <td>316.979000</td>\n",
              "      <td>267.031000</td>\n",
              "      <td>540.524250</td>\n",
              "      <td>1366.363250</td>\n",
              "      <td>0.012600</td>\n",
              "      <td>0.407250</td>\n",
              "    </tr>\n",
              "    <tr>\n",
              "      <th>max</th>\n",
              "      <td>2008.000000</td>\n",
              "      <td>12.000000</td>\n",
              "      <td>3.001000</td>\n",
              "      <td>388.500000</td>\n",
              "      <td>1814.180000</td>\n",
              "      <td>322.182000</td>\n",
              "      <td>271.494000</td>\n",
              "      <td>543.813000</td>\n",
              "      <td>1367.316200</td>\n",
              "      <td>0.149400</td>\n",
              "      <td>0.739000</td>\n",
              "    </tr>\n",
              "  </tbody>\n",
              "</table>\n",
              "</div>"
            ],
            "text/plain": [
              "              Year       Month         MEI         CO2          CH4  \\\n",
              "count   308.000000  308.000000  308.000000  308.000000   308.000000   \n",
              "mean   1995.662338    6.551948    0.275555  363.226753  1749.824513   \n",
              "std       7.423197    3.447214    0.937918   12.647125    46.051678   \n",
              "min    1983.000000    1.000000   -1.635000  340.170000  1629.890000   \n",
              "25%    1989.000000    4.000000   -0.398750  353.020000  1722.182500   \n",
              "50%    1996.000000    7.000000    0.237500  361.735000  1764.040000   \n",
              "75%    2002.000000   10.000000    0.830500  373.455000  1786.885000   \n",
              "max    2008.000000   12.000000    3.001000  388.500000  1814.180000   \n",
              "\n",
              "              N2O      CFC-11      CFC-12          TSI    Aerosols        Temp  \n",
              "count  308.000000  308.000000  308.000000   308.000000  308.000000  308.000000  \n",
              "mean   312.391834  251.973068  497.524782  1366.070759    0.016657    0.256776  \n",
              "std      5.225131   20.231783   57.826899     0.399610    0.029050    0.179090  \n",
              "min    303.677000  191.324000  350.113000  1365.426100    0.001600   -0.282000  \n",
              "25%    308.111500  246.295500  472.410750  1365.717050    0.002800    0.121750  \n",
              "50%    311.507000  258.344000  528.356000  1365.980900    0.005750    0.248000  \n",
              "75%    316.979000  267.031000  540.524250  1366.363250    0.012600    0.407250  \n",
              "max    322.182000  271.494000  543.813000  1367.316200    0.149400    0.739000  "
            ]
          },
          "execution_count": 212,
          "metadata": {},
          "output_type": "execute_result"
        }
      ],
      "source": [
        "data.describe()"
      ]
    },
    {
      "cell_type": "markdown",
      "metadata": {
        "id": "2ruBLbjIYR9X"
      },
      "source": [
        "#### **Answer** :"
      ]
    },
    {
      "cell_type": "code",
      "execution_count": 213,
      "metadata": {
        "colab": {
          "base_uri": "https://localhost:8080/"
        },
        "id": "7dAZipXDYR9Y",
        "outputId": "2dc876ee-93bf-4ea8-c768-8f625b9a9252"
      },
      "outputs": [
        {
          "data": {
            "text/plain": [
              "Year        1995.662338\n",
              "Month          6.551948\n",
              "MEI            0.275555\n",
              "CO2          363.226753\n",
              "CH4         1749.824513\n",
              "N2O          312.391834\n",
              "CFC-11       251.973068\n",
              "CFC-12       497.524782\n",
              "TSI         1366.070759\n",
              "Aerosols       0.016657\n",
              "Temp           0.256776\n",
              "Name: mean, dtype: float64"
            ]
          },
          "execution_count": 213,
          "metadata": {},
          "output_type": "execute_result"
        }
      ],
      "source": [
        "data.describe().loc[\"mean\"]"
      ]
    },
    {
      "cell_type": "markdown",
      "metadata": {
        "id": "kcV7pfwaYR9Y"
      },
      "source": [
        "### 5. How spread out are the Temp values from the mean of Temp? (this measure is called standard deviation (std))\n"
      ]
    },
    {
      "cell_type": "code",
      "execution_count": 214,
      "metadata": {
        "colab": {
          "base_uri": "https://localhost:8080/"
        },
        "id": "w33y8IRlYR9Y",
        "outputId": "cfeb46fd-9801-48df-a965-c36701ce613c"
      },
      "outputs": [
        {
          "data": {
            "text/plain": [
              "Year         7.423197\n",
              "Month        3.447214\n",
              "MEI          0.937918\n",
              "CO2         12.647125\n",
              "CH4         46.051678\n",
              "N2O          5.225131\n",
              "CFC-11      20.231783\n",
              "CFC-12      57.826899\n",
              "TSI          0.399610\n",
              "Aerosols     0.029050\n",
              "Temp         0.179090\n",
              "dtype: float64"
            ]
          },
          "execution_count": 214,
          "metadata": {},
          "output_type": "execute_result"
        }
      ],
      "source": [
        "data.std()"
      ]
    },
    {
      "cell_type": "markdown",
      "metadata": {
        "id": "fLjI2T7IYR9Y"
      },
      "source": [
        "#### **Answer** :"
      ]
    },
    {
      "cell_type": "code",
      "execution_count": 215,
      "metadata": {
        "colab": {
          "base_uri": "https://localhost:8080/"
        },
        "id": "3U0cuFG5YR9Y",
        "outputId": "df6019af-716d-4d5a-ab81-915118e108fa"
      },
      "outputs": [
        {
          "data": {
            "text/plain": [
              "0.17908976824102688"
            ]
          },
          "execution_count": 215,
          "metadata": {},
          "output_type": "execute_result"
        }
      ],
      "source": [
        "data.std().Temp"
      ]
    },
    {
      "cell_type": "markdown",
      "metadata": {
        "id": "q-dGx-x_YR9Y"
      },
      "source": [
        "### 6. Which variables have more linear relationship with the Temp variable?"
      ]
    },
    {
      "cell_type": "markdown",
      "metadata": {
        "id": "5o-Z8K1ZYR9Z"
      },
      "source": [
        "#### **Answer** : Year"
      ]
    },
    {
      "cell_type": "code",
      "execution_count": 216,
      "metadata": {
        "colab": {
          "base_uri": "https://localhost:8080/",
          "height": 394
        },
        "id": "7tdkDQ7YYR9Z",
        "outputId": "1ae90bc4-ce8f-4c11-f15d-96e4053457a9"
      },
      "outputs": [
        {
          "data": {
            "text/html": [
              "<div>\n",
              "<style scoped>\n",
              "    .dataframe tbody tr th:only-of-type {\n",
              "        vertical-align: middle;\n",
              "    }\n",
              "\n",
              "    .dataframe tbody tr th {\n",
              "        vertical-align: top;\n",
              "    }\n",
              "\n",
              "    .dataframe thead th {\n",
              "        text-align: right;\n",
              "    }\n",
              "</style>\n",
              "<table border=\"1\" class=\"dataframe\">\n",
              "  <thead>\n",
              "    <tr style=\"text-align: right;\">\n",
              "      <th></th>\n",
              "      <th>Year</th>\n",
              "      <th>Month</th>\n",
              "      <th>MEI</th>\n",
              "      <th>CO2</th>\n",
              "      <th>CH4</th>\n",
              "      <th>N2O</th>\n",
              "      <th>CFC-11</th>\n",
              "      <th>CFC-12</th>\n",
              "      <th>TSI</th>\n",
              "      <th>Aerosols</th>\n",
              "      <th>Temp</th>\n",
              "    </tr>\n",
              "  </thead>\n",
              "  <tbody>\n",
              "    <tr>\n",
              "      <th>Year</th>\n",
              "      <td>1.000000</td>\n",
              "      <td>-0.025789</td>\n",
              "      <td>-0.145345</td>\n",
              "      <td>0.985379</td>\n",
              "      <td>0.910563</td>\n",
              "      <td>0.994850</td>\n",
              "      <td>0.460965</td>\n",
              "      <td>0.870067</td>\n",
              "      <td>0.022353</td>\n",
              "      <td>-0.361884</td>\n",
              "      <td>0.755731</td>\n",
              "    </tr>\n",
              "    <tr>\n",
              "      <th>Month</th>\n",
              "      <td>-0.025789</td>\n",
              "      <td>1.000000</td>\n",
              "      <td>-0.016345</td>\n",
              "      <td>-0.096287</td>\n",
              "      <td>0.017558</td>\n",
              "      <td>0.012395</td>\n",
              "      <td>-0.014914</td>\n",
              "      <td>-0.001084</td>\n",
              "      <td>-0.032754</td>\n",
              "      <td>0.014845</td>\n",
              "      <td>-0.098016</td>\n",
              "    </tr>\n",
              "    <tr>\n",
              "      <th>MEI</th>\n",
              "      <td>-0.145345</td>\n",
              "      <td>-0.016345</td>\n",
              "      <td>1.000000</td>\n",
              "      <td>-0.152911</td>\n",
              "      <td>-0.105555</td>\n",
              "      <td>-0.162375</td>\n",
              "      <td>0.088171</td>\n",
              "      <td>-0.039836</td>\n",
              "      <td>-0.076826</td>\n",
              "      <td>0.352351</td>\n",
              "      <td>0.135292</td>\n",
              "    </tr>\n",
              "    <tr>\n",
              "      <th>CO2</th>\n",
              "      <td>0.985379</td>\n",
              "      <td>-0.096287</td>\n",
              "      <td>-0.152911</td>\n",
              "      <td>1.000000</td>\n",
              "      <td>0.872253</td>\n",
              "      <td>0.981135</td>\n",
              "      <td>0.401284</td>\n",
              "      <td>0.823210</td>\n",
              "      <td>0.017867</td>\n",
              "      <td>-0.369265</td>\n",
              "      <td>0.748505</td>\n",
              "    </tr>\n",
              "    <tr>\n",
              "      <th>CH4</th>\n",
              "      <td>0.910563</td>\n",
              "      <td>0.017558</td>\n",
              "      <td>-0.105555</td>\n",
              "      <td>0.872253</td>\n",
              "      <td>1.000000</td>\n",
              "      <td>0.894409</td>\n",
              "      <td>0.713504</td>\n",
              "      <td>0.958237</td>\n",
              "      <td>0.146335</td>\n",
              "      <td>-0.290381</td>\n",
              "      <td>0.699697</td>\n",
              "    </tr>\n",
              "    <tr>\n",
              "      <th>N2O</th>\n",
              "      <td>0.994850</td>\n",
              "      <td>0.012395</td>\n",
              "      <td>-0.162375</td>\n",
              "      <td>0.981135</td>\n",
              "      <td>0.894409</td>\n",
              "      <td>1.000000</td>\n",
              "      <td>0.412155</td>\n",
              "      <td>0.839295</td>\n",
              "      <td>0.039892</td>\n",
              "      <td>-0.353499</td>\n",
              "      <td>0.743242</td>\n",
              "    </tr>\n",
              "    <tr>\n",
              "      <th>CFC-11</th>\n",
              "      <td>0.460965</td>\n",
              "      <td>-0.014914</td>\n",
              "      <td>0.088171</td>\n",
              "      <td>0.401284</td>\n",
              "      <td>0.713504</td>\n",
              "      <td>0.412155</td>\n",
              "      <td>1.000000</td>\n",
              "      <td>0.831381</td>\n",
              "      <td>0.284629</td>\n",
              "      <td>-0.032302</td>\n",
              "      <td>0.380111</td>\n",
              "    </tr>\n",
              "    <tr>\n",
              "      <th>CFC-12</th>\n",
              "      <td>0.870067</td>\n",
              "      <td>-0.001084</td>\n",
              "      <td>-0.039836</td>\n",
              "      <td>0.823210</td>\n",
              "      <td>0.958237</td>\n",
              "      <td>0.839295</td>\n",
              "      <td>0.831381</td>\n",
              "      <td>1.000000</td>\n",
              "      <td>0.189270</td>\n",
              "      <td>-0.243785</td>\n",
              "      <td>0.688944</td>\n",
              "    </tr>\n",
              "    <tr>\n",
              "      <th>TSI</th>\n",
              "      <td>0.022353</td>\n",
              "      <td>-0.032754</td>\n",
              "      <td>-0.076826</td>\n",
              "      <td>0.017867</td>\n",
              "      <td>0.146335</td>\n",
              "      <td>0.039892</td>\n",
              "      <td>0.284629</td>\n",
              "      <td>0.189270</td>\n",
              "      <td>1.000000</td>\n",
              "      <td>0.083238</td>\n",
              "      <td>0.182186</td>\n",
              "    </tr>\n",
              "    <tr>\n",
              "      <th>Aerosols</th>\n",
              "      <td>-0.361884</td>\n",
              "      <td>0.014845</td>\n",
              "      <td>0.352351</td>\n",
              "      <td>-0.369265</td>\n",
              "      <td>-0.290381</td>\n",
              "      <td>-0.353499</td>\n",
              "      <td>-0.032302</td>\n",
              "      <td>-0.243785</td>\n",
              "      <td>0.083238</td>\n",
              "      <td>1.000000</td>\n",
              "      <td>-0.392069</td>\n",
              "    </tr>\n",
              "    <tr>\n",
              "      <th>Temp</th>\n",
              "      <td>0.755731</td>\n",
              "      <td>-0.098016</td>\n",
              "      <td>0.135292</td>\n",
              "      <td>0.748505</td>\n",
              "      <td>0.699697</td>\n",
              "      <td>0.743242</td>\n",
              "      <td>0.380111</td>\n",
              "      <td>0.688944</td>\n",
              "      <td>0.182186</td>\n",
              "      <td>-0.392069</td>\n",
              "      <td>1.000000</td>\n",
              "    </tr>\n",
              "  </tbody>\n",
              "</table>\n",
              "</div>"
            ],
            "text/plain": [
              "              Year     Month       MEI       CO2       CH4       N2O  \\\n",
              "Year      1.000000 -0.025789 -0.145345  0.985379  0.910563  0.994850   \n",
              "Month    -0.025789  1.000000 -0.016345 -0.096287  0.017558  0.012395   \n",
              "MEI      -0.145345 -0.016345  1.000000 -0.152911 -0.105555 -0.162375   \n",
              "CO2       0.985379 -0.096287 -0.152911  1.000000  0.872253  0.981135   \n",
              "CH4       0.910563  0.017558 -0.105555  0.872253  1.000000  0.894409   \n",
              "N2O       0.994850  0.012395 -0.162375  0.981135  0.894409  1.000000   \n",
              "CFC-11    0.460965 -0.014914  0.088171  0.401284  0.713504  0.412155   \n",
              "CFC-12    0.870067 -0.001084 -0.039836  0.823210  0.958237  0.839295   \n",
              "TSI       0.022353 -0.032754 -0.076826  0.017867  0.146335  0.039892   \n",
              "Aerosols -0.361884  0.014845  0.352351 -0.369265 -0.290381 -0.353499   \n",
              "Temp      0.755731 -0.098016  0.135292  0.748505  0.699697  0.743242   \n",
              "\n",
              "            CFC-11    CFC-12       TSI  Aerosols      Temp  \n",
              "Year      0.460965  0.870067  0.022353 -0.361884  0.755731  \n",
              "Month    -0.014914 -0.001084 -0.032754  0.014845 -0.098016  \n",
              "MEI       0.088171 -0.039836 -0.076826  0.352351  0.135292  \n",
              "CO2       0.401284  0.823210  0.017867 -0.369265  0.748505  \n",
              "CH4       0.713504  0.958237  0.146335 -0.290381  0.699697  \n",
              "N2O       0.412155  0.839295  0.039892 -0.353499  0.743242  \n",
              "CFC-11    1.000000  0.831381  0.284629 -0.032302  0.380111  \n",
              "CFC-12    0.831381  1.000000  0.189270 -0.243785  0.688944  \n",
              "TSI       0.284629  0.189270  1.000000  0.083238  0.182186  \n",
              "Aerosols -0.032302 -0.243785  0.083238  1.000000 -0.392069  \n",
              "Temp      0.380111  0.688944  0.182186 -0.392069  1.000000  "
            ]
          },
          "execution_count": 216,
          "metadata": {},
          "output_type": "execute_result"
        }
      ],
      "source": [
        "data.corr()"
      ]
    },
    {
      "cell_type": "markdown",
      "metadata": {
        "id": "qYhwrn_fYR9Z"
      },
      "source": [
        "### 7. Plot data samples with CO2 values on the x axis and Temp on the y axis. Does temperature increase as CO2 increases?\n"
      ]
    },
    {
      "cell_type": "markdown",
      "metadata": {
        "id": "zOPEOduaYR9Z"
      },
      "source": [
        "#### **Answer** : Yes, based on the plot for most cases when CO2 increases it cause to increase Temperature"
      ]
    },
    {
      "cell_type": "code",
      "execution_count": 217,
      "metadata": {
        "colab": {
          "base_uri": "https://localhost:8080/",
          "height": 449
        },
        "id": "3iCekBRDYR9Z",
        "outputId": "eadcf2b0-dcb3-42a2-8bb0-5cf2782d1a66"
      },
      "outputs": [
        {
          "data": {
            "image/png": "[encoded data removed]",
            "text/plain": [
              "<Figure size 640x480 with 1 Axes>"
            ]
          },
          "metadata": {},
          "output_type": "display_data"
        }
      ],
      "source": [
        "plt.scatter(data.CO2, data.Temp)\n",
        "plt.xlabel(\"CO2\")\n",
        "plt.ylabel(\"Temperature\")\n",
        "plt.grid()\n",
        "plt.show()"
      ]
    },
    {
      "cell_type": "markdown",
      "metadata": {
        "id": "GACIQzkeYR9Z"
      },
      "source": [
        "## 1.2 Creating our model: simple linear regression"
      ]
    },
    {
      "cell_type": "markdown",
      "metadata": {
        "id": "EAcWZiuvYR9a"
      },
      "source": [
        "### 1. Spliting data into training set and test set"
      ]
    },
    {
      "cell_type": "code",
      "execution_count": 218,
      "metadata": {
        "id": "NbyPXTkbYR9a"
      },
      "outputs": [],
      "source": [
        "training_set = data[data.Year <= 2003]\n",
        "test_set = data[data.Year > 2003]"
      ]
    },
    {
      "cell_type": "markdown",
      "metadata": {
        "id": "JpzeruFBYR9a"
      },
      "source": [
        "### 2. How many training and test samples do you have?\n",
        "#### **Answer :**"
      ]
    },
    {
      "cell_type": "code",
      "execution_count": 219,
      "metadata": {
        "colab": {
          "base_uri": "https://localhost:8080/"
        },
        "id": "AmdFmuYLYR9a",
        "outputId": "f20917b4-db08-4a55-aa22-4d9f177fbe70"
      },
      "outputs": [
        {
          "name": "stdout",
          "output_type": "stream",
          "text": [
            "(248, 11)\n",
            "(60, 11)\n"
          ]
        }
      ],
      "source": [
        "print(training_set.shape)\n",
        "print(test_set.shape)"
      ]
    },
    {
      "cell_type": "markdown",
      "metadata": {
        "id": "NgHyRQ7AYR9a"
      },
      "source": [
        "### 3. Simple Regression"
      ]
    },
    {
      "cell_type": "code",
      "execution_count": 220,
      "metadata": {
        "id": "4OX5i6y1YR9a"
      },
      "outputs": [],
      "source": [
        "training_set = training_set[[\"CO2\", \"Temp\"]]\n",
        "test_set = test_set[[\"CO2\", \"Temp\"]]"
      ]
    },
    {
      "cell_type": "code",
      "execution_count": 221,
      "metadata": {},
      "outputs": [
        {
          "data": {
            "text/html": [
              "<div>\n",
              "<style scoped>\n",
              "    .dataframe tbody tr th:only-of-type {\n",
              "        vertical-align: middle;\n",
              "    }\n",
              "\n",
              "    .dataframe tbody tr th {\n",
              "        vertical-align: top;\n",
              "    }\n",
              "\n",
              "    .dataframe thead th {\n",
              "        text-align: right;\n",
              "    }\n",
              "</style>\n",
              "<table border=\"1\" class=\"dataframe\">\n",
              "  <thead>\n",
              "    <tr style=\"text-align: right;\">\n",
              "      <th></th>\n",
              "      <th>CO2</th>\n",
              "      <th>Temp</th>\n",
              "    </tr>\n",
              "  </thead>\n",
              "  <tbody>\n",
              "    <tr>\n",
              "      <th>0</th>\n",
              "      <td>345.96</td>\n",
              "      <td>0.109</td>\n",
              "    </tr>\n",
              "    <tr>\n",
              "      <th>1</th>\n",
              "      <td>345.52</td>\n",
              "      <td>0.118</td>\n",
              "    </tr>\n",
              "    <tr>\n",
              "      <th>2</th>\n",
              "      <td>344.15</td>\n",
              "      <td>0.137</td>\n",
              "    </tr>\n",
              "    <tr>\n",
              "      <th>3</th>\n",
              "      <td>342.25</td>\n",
              "      <td>0.176</td>\n",
              "    </tr>\n",
              "    <tr>\n",
              "      <th>4</th>\n",
              "      <td>340.17</td>\n",
              "      <td>0.149</td>\n",
              "    </tr>\n",
              "    <tr>\n",
              "      <th>...</th>\n",
              "      <td>...</td>\n",
              "      <td>...</td>\n",
              "    </tr>\n",
              "    <tr>\n",
              "      <th>243</th>\n",
              "      <td>374.32</td>\n",
              "      <td>0.514</td>\n",
              "    </tr>\n",
              "    <tr>\n",
              "      <th>244</th>\n",
              "      <td>373.20</td>\n",
              "      <td>0.499</td>\n",
              "    </tr>\n",
              "    <tr>\n",
              "      <th>245</th>\n",
              "      <td>373.10</td>\n",
              "      <td>0.550</td>\n",
              "    </tr>\n",
              "    <tr>\n",
              "      <th>246</th>\n",
              "      <td>374.64</td>\n",
              "      <td>0.419</td>\n",
              "    </tr>\n",
              "    <tr>\n",
              "      <th>247</th>\n",
              "      <td>375.93</td>\n",
              "      <td>0.519</td>\n",
              "    </tr>\n",
              "  </tbody>\n",
              "</table>\n",
              "<p>248 rows × 2 columns</p>\n",
              "</div>"
            ],
            "text/plain": [
              "        CO2   Temp\n",
              "0    345.96  0.109\n",
              "1    345.52  0.118\n",
              "2    344.15  0.137\n",
              "3    342.25  0.176\n",
              "4    340.17  0.149\n",
              "..      ...    ...\n",
              "243  374.32  0.514\n",
              "244  373.20  0.499\n",
              "245  373.10  0.550\n",
              "246  374.64  0.419\n",
              "247  375.93  0.519\n",
              "\n",
              "[248 rows x 2 columns]"
            ]
          },
          "execution_count": 221,
          "metadata": {},
          "output_type": "execute_result"
        }
      ],
      "source": [
        "training_set"
      ]
    },
    {
      "cell_type": "markdown",
      "metadata": {
        "id": "a49dwzDmYR9a"
      },
      "source": [
        "### 4. Separate training and test sets into feature X (CO2) and label y (Temp)."
      ]
    },
    {
      "cell_type": "code",
      "execution_count": 222,
      "metadata": {
        "id": "OCiXDCygYR9a"
      },
      "outputs": [],
      "source": [
        "X_train, Y_train = training_set['CO2'].values, training_set['Temp'].values\n",
        "X_test, Y_test = test_set[\"CO2\"].values, test_set[\"Temp\"].values"
      ]
    },
    {
      "cell_type": "code",
      "execution_count": 223,
      "metadata": {},
      "outputs": [
        {
          "data": {
            "text/plain": [
              "array([345.96, 345.52, 344.15, 342.25, 340.17, 340.3 , 341.53, 343.07,\n",
              "       344.05, 344.77, 345.46, 346.77, 347.55, 346.98, 345.55, 343.2 ,\n",
              "       341.35, 341.68, 343.06, 344.54, 345.25, 346.06, 347.66, 348.2 ,\n",
              "       348.92, 348.4 , 346.66, 344.85, 343.2 , 343.08, 344.4 , 345.82,\n",
              "       346.54, 347.13, 348.05, 349.77, 350.53, 349.9 , 348.11, 346.09,\n",
              "       345.01, 344.47, 345.86, 347.15, 348.38, 348.7 , 349.72, 351.32,\n",
              "       352.14, 351.61, 349.91, 347.84, 346.52, 346.65, 347.96, 349.18,\n",
              "       350.38, 351.68, 352.24, 353.66, 354.18, 353.68, 352.58, 350.66,\n",
              "       349.03, 349.08, 350.15, 351.44, 352.89, 353.24, 353.8 , 355.59,\n",
              "       355.89, 355.3 , 353.98, 351.53, 350.02, 350.29, 351.44, 352.84,\n",
              "       353.79, 354.88, 355.65, 356.28, 357.29, 356.32, 354.89, 352.89,\n",
              "       351.28, 351.59, 353.05, 354.27, 354.87, 355.68, 357.06, 358.51,\n",
              "       359.09, 358.1 , 356.12, 353.89, 352.3 , 352.32, 353.79, 355.07,\n",
              "       356.17, 356.93, 357.82, 359.  , 359.55, 359.32, 356.85, 354.91,\n",
              "       352.93, 353.31, 354.27, 355.53, 356.86, 357.27, 358.36, 359.27,\n",
              "       360.19, 359.52, 357.42, 355.46, 354.1 , 354.12, 355.4 , 356.84,\n",
              "       358.22, 358.98, 359.91, 361.32, 361.68, 360.8 , 359.39, 357.42,\n",
              "       355.63, 356.09, 357.56, 358.87, 359.87, 360.79, 361.77, 363.23,\n",
              "       363.77, 363.22, 361.7 , 359.11, 358.11, 357.97, 359.4 , 360.61,\n",
              "       362.04, 363.17, 364.17, 364.51, 365.16, 364.93, 363.53, 361.38,\n",
              "       359.6 , 359.54, 360.84, 362.18, 363.04, 364.09, 364.47, 366.25,\n",
              "       366.69, 365.59, 364.34, 362.2 , 360.31, 360.71, 362.44, 364.33,\n",
              "       365.18, 365.98, 367.13, 368.61, 369.49, 368.95, 367.74, 365.79,\n",
              "       364.01, 364.35, 365.52, 367.08, 368.12, 368.98, 369.6 , 370.96,\n",
              "       370.77, 370.33, 369.28, 366.86, 364.94, 365.35, 366.68, 368.04,\n",
              "       369.25, 369.5 , 370.56, 371.82, 371.51, 371.71, 369.85, 368.2 ,\n",
              "       366.91, 366.99, 368.33, 369.67, 370.52, 371.49, 372.53, 373.37,\n",
              "       373.82, 373.18, 371.57, 369.63, 368.16, 368.42, 369.69, 371.18,\n",
              "       372.45, 373.14, 373.93, 375.  , 375.65, 375.5 , 374.  , 371.83,\n",
              "       370.66, 370.51, 372.2 , 373.71, 374.87, 375.62, 376.48, 377.74,\n",
              "       378.5 , 378.18, 376.72, 374.32, 373.2 , 373.1 , 374.64, 375.93])"
            ]
          },
          "execution_count": 223,
          "metadata": {},
          "output_type": "execute_result"
        }
      ],
      "source": [
        "X_train"
      ]
    },
    {
      "cell_type": "code",
      "execution_count": 224,
      "metadata": {},
      "outputs": [
        {
          "data": {
            "text/plain": [
              "array([ 0.109,  0.118,  0.137,  0.176,  0.149,  0.093,  0.232,  0.078,\n",
              "        0.089,  0.013,  0.049, -0.019,  0.065, -0.016, -0.024,  0.034,\n",
              "        0.025, -0.035, -0.123, -0.282, -0.001, -0.155, -0.032, -0.042,\n",
              "        0.001, -0.049, -0.042,  0.013, -0.035, -0.008, -0.093, -0.002,\n",
              "        0.121,  0.065,  0.049,  0.045,  0.023,  0.055,  0.004, -0.001,\n",
              "        0.016,  0.043, -0.033,  0.022,  0.116,  0.266,  0.021,  0.084,\n",
              "        0.145,  0.121,  0.238,  0.219,  0.25 ,  0.174,  0.186,  0.314,\n",
              "        0.334,  0.189,  0.248,  0.224,  0.175,  0.2  ,  0.168,  0.154,\n",
              "        0.149,  0.12 ,  0.027,  0.106,  0.019,  0.094,  0.088,  0.083,\n",
              "        0.073,  0.094,  0.167,  0.168,  0.135,  0.145,  0.067,  0.181,\n",
              "        0.187,  0.242,  0.442,  0.285,  0.231,  0.233,  0.196,  0.227,\n",
              "        0.179,  0.271,  0.278,  0.199,  0.224,  0.272,  0.161,  0.299,\n",
              "        0.249,  0.269,  0.271,  0.225,  0.176,  0.133,  0.079,  0.084,\n",
              "        0.266,  0.25 ,  0.199,  0.132,  0.125,  0.118, -0.008, -0.007,\n",
              "       -0.062, -0.072, -0.097,  0.007,  0.204,  0.161,  0.202,  0.121,\n",
              "        0.158,  0.122,  0.088,  0.06 ,  0.013,  0.061, -0.041,  0.111,\n",
              "        0.16 , -0.072,  0.176,  0.173,  0.218,  0.191,  0.141,  0.175,\n",
              "        0.156,  0.23 ,  0.248,  0.227,  0.349,  0.449,  0.286,  0.229,\n",
              "        0.176,  0.283,  0.276,  0.305,  0.21 ,  0.241,  0.266,  0.163,\n",
              "        0.069,  0.246,  0.13 ,  0.097,  0.177,  0.159,  0.177,  0.178,\n",
              "        0.093,  0.089,  0.077,  0.172,  0.156,  0.247,  0.262,  0.201,\n",
              "        0.254,  0.367,  0.372,  0.406,  0.457,  0.485,  0.449,  0.526,\n",
              "        0.486,  0.739,  0.52 ,  0.608,  0.57 ,  0.579,  0.651,  0.616,\n",
              "        0.4  ,  0.409,  0.342,  0.424,  0.366,  0.54 ,  0.29 ,  0.322,\n",
              "        0.248,  0.266,  0.282,  0.253,  0.274,  0.241,  0.223,  0.338,\n",
              "        0.212,  0.363,  0.334,  0.446,  0.271,  0.252,  0.261,  0.338,\n",
              "        0.309,  0.213,  0.159,  0.179,  0.329,  0.289,  0.475,  0.426,\n",
              "        0.399,  0.416,  0.452,  0.498,  0.405,  0.378,  0.491,  0.323,\n",
              "        0.568,  0.593,  0.586,  0.443,  0.432,  0.455,  0.462,  0.417,\n",
              "        0.413,  0.362,  0.397,  0.326,  0.514,  0.427,  0.418,  0.408,\n",
              "        0.439,  0.437,  0.457,  0.514,  0.499,  0.55 ,  0.419,  0.519])"
            ]
          },
          "execution_count": 224,
          "metadata": {},
          "output_type": "execute_result"
        }
      ],
      "source": [
        "Y_train"
      ]
    },
    {
      "cell_type": "code",
      "execution_count": 225,
      "metadata": {},
      "outputs": [
        {
          "data": {
            "text/plain": [
              "array([377.  , 377.87, 378.73, 380.41, 380.63, 379.56, 377.61, 376.15,\n",
              "       374.11, 374.44, 375.93, 377.45, 378.47, 379.76, 381.14, 382.2 ,\n",
              "       382.47, 382.2 , 380.78, 378.73, 376.66, 376.98, 378.29, 379.92,\n",
              "       381.35, 382.16, 382.66, 384.73, 384.98, 384.09, 382.38, 380.45,\n",
              "       378.92, 379.16, 380.18, 381.79, 382.93, 383.81, 384.56, 386.4 ,\n",
              "       386.58, 386.05, 384.49, 382.  , 380.9 , 381.14, 382.42, 383.89,\n",
              "       385.44, 385.73, 385.97, 387.16, 388.5 , 387.88, 386.42, 384.15,\n",
              "       383.09, 382.99, 384.13, 385.56])"
            ]
          },
          "execution_count": 225,
          "metadata": {},
          "output_type": "execute_result"
        }
      ],
      "source": [
        "X_test"
      ]
    },
    {
      "cell_type": "code",
      "execution_count": 226,
      "metadata": {},
      "outputs": [
        {
          "data": {
            "text/plain": [
              "array([0.496, 0.56 , 0.501, 0.484, 0.323, 0.35 , 0.38 , 0.418, 0.442,\n",
              "       0.468, 0.521, 0.381, 0.452, 0.364, 0.493, 0.53 , 0.476, 0.506,\n",
              "       0.532, 0.502, 0.498, 0.495, 0.478, 0.366, 0.32 , 0.435, 0.38 ,\n",
              "       0.378, 0.352, 0.442, 0.456, 0.482, 0.425, 0.472, 0.44 , 0.518,\n",
              "       0.601, 0.498, 0.435, 0.466, 0.372, 0.382, 0.394, 0.358, 0.402,\n",
              "       0.362, 0.266, 0.226, 0.074, 0.198, 0.447, 0.278, 0.283, 0.315,\n",
              "       0.406, 0.407, 0.378, 0.44 , 0.394, 0.33 ])"
            ]
          },
          "execution_count": 226,
          "metadata": {},
          "output_type": "execute_result"
        }
      ],
      "source": [
        "Y_test"
      ]
    },
    {
      "cell_type": "markdown",
      "metadata": {
        "id": "shl1sYKPYR9b"
      },
      "source": [
        "### 5. Normalize data"
      ]
    },
    {
      "cell_type": "code",
      "execution_count": 227,
      "metadata": {
        "colab": {
          "base_uri": "https://localhost:8080/"
        },
        "id": "5CD68f1vYR9b",
        "outputId": "3081e73f-5266-4a66-bf14-9f2cf899efe6"
      },
      "outputs": [
        {
          "name": "stdout",
          "output_type": "stream",
          "text": [
            "0.9999999999999999\n",
            "3.4381100117424204e-15\n"
          ]
        }
      ],
      "source": [
        "mean_CO2 = np.mean(X_train)\n",
        "std_CO2 = np.std(X_train)\n",
        "X_train_normalized = (X_train - mean_CO2) / std_CO2\n",
        "X_test_normalized = (X_test - mean_CO2) / std_CO2\n",
        "print(X_train_normalized.std())\n",
        "print(X_train_normalized.mean())"
      ]
    },
    {
      "cell_type": "code",
      "execution_count": 228,
      "metadata": {},
      "outputs": [],
      "source": [
        "bias_column = np.ones(X_train.shape[0])\n",
        "X_train_with_bias = np.column_stack((bias_column, X_train_normalized))\n",
        "bias_column = np.ones(X_test.shape[0])\n",
        "X_test_with_bias = np.column_stack((bias_column, X_test_normalized))"
      ]
    },
    {
      "cell_type": "markdown",
      "metadata": {
        "id": "m98uRJ40YR9b"
      },
      "source": [
        "### 6. Implementing"
      ]
    },
    {
      "cell_type": "code",
      "execution_count": 229,
      "metadata": {},
      "outputs": [],
      "source": [
        "def linear_regression_gradient_descent(X, y, learning_rate=0.01, n_iterations=1000):\n",
        "    X_b = np.c_[np.ones((len(X), 1)), X]\n",
        "\n",
        "    theta = np.zeros(X_b.shape[1])\n",
        "    cost_history = []\n",
        "\n",
        "    for _ in range(n_iterations):\n",
        "        predictions = X_b.dot(theta)\n",
        "\n",
        "        errors = predictions - y\n",
        "\n",
        "        gradients = 2 / len(X) * X_b.T.dot(errors)\n",
        "\n",
        "        theta = theta - learning_rate * gradients\n",
        "        mse = mean_squared_error(predictions, y)\n",
        "        cost_history.append(mse)\n",
        "\n",
        "    return theta, cost_history\n",
        "\n",
        "\n",
        "def linear_regression_stochastic_gradient_descent(\n",
        "    X, y, learning_rate=0.01, n_iterations=1000\n",
        "):\n",
        "    X_b = np.c_[np.ones((len(X), 1)), X]\n",
        "\n",
        "    theta = np.zeros(X_b.shape[1])\n",
        "    cost_history = []\n",
        "\n",
        "    for _ in range(n_iterations):\n",
        "        for _ in range(len(X)):\n",
        "            random_index = np.random.randint(len(X))\n",
        "            xi = X_b[random_index : random_index + 1]\n",
        "            yi = y[random_index : random_index + 1]\n",
        "\n",
        "            prediction = xi.dot(theta)\n",
        "            error = prediction - yi\n",
        "\n",
        "            gradients = 2 * xi.T.dot(error)\n",
        "\n",
        "            theta = theta - learning_rate * gradients\n",
        "\n",
        "        predictions = X_b.dot(theta)\n",
        "        mse = mean_squared_error(predictions, y)\n",
        "        cost_history.append(mse)\n",
        "\n",
        "    return theta, cost_history\n",
        "\n",
        "\n",
        "def mean_squared_error(y_pred, y_actual):\n",
        "    m = len(y_actual)  # Number of training examples\n",
        "    mse = np.sum((y_pred - y_actual) ** 2) / (2 * m)\n",
        "    return mse"
      ]
    },
    {
      "cell_type": "markdown",
      "metadata": {
        "id": "09JnnbwtYR9b"
      },
      "source": [
        "#### 6.1 Implement linear regression from scratch using the gradient descent algorithm"
      ]
    },
    {
      "cell_type": "markdown",
      "metadata": {},
      "source": [
        "##### algorithem"
      ]
    },
    {
      "cell_type": "code",
      "execution_count": 230,
      "metadata": {},
      "outputs": [
        {
          "name": "stdout",
          "output_type": "stream",
          "text": [
            "Best interception and slope: 0.21878629027801266 0.0237737016292948\n",
            "Best learning rate: 0.1\n",
            "Best number of iterations: 100\n",
            "Best cost: 0.006509206198334206\n"
          ]
        }
      ],
      "source": [
        "learning_rates = [0.1, 0.01, 0.001, 0.0001]  # differents learning rates\n",
        "iterations = [100, 350, 500, 1000]  # differents iterations\n",
        "\n",
        "best_m = None\n",
        "best_b = None\n",
        "best_itr = None\n",
        "best_lr = None\n",
        "best_cost = float(\"inf\")\n",
        "best_cost_data = []\n",
        "best_theta = np.zeros(X_train_with_bias.shape[1])\n",
        "for lr in learning_rates:\n",
        "    for iter in iterations:\n",
        "        theta, cost_data = linear_regression_gradient_descent(\n",
        "            X_train_normalized, Y_train, lr, iter\n",
        "        )\n",
        "\n",
        "        if cost_data[-1] < best_cost:\n",
        "            best_theta = theta.copy()\n",
        "            best_itr = iter\n",
        "            best_lr = lr\n",
        "            best_cost = cost_data[-1]\n",
        "            best_cost_data = cost_data.copy()\n",
        "\n",
        "\n",
        "print(\"Best interception and slope:\", best_theta[0], theta[1])\n",
        "print(\"Best learning rate:\", best_lr)\n",
        "print(\"Best number of iterations:\", best_itr)\n",
        "print(\"Best cost:\", best_cost)"
      ]
    },
    {
      "cell_type": "markdown",
      "metadata": {},
      "source": [
        "### Plot cost function"
      ]
    },
    {
      "cell_type": "code",
      "execution_count": 231,
      "metadata": {},
      "outputs": [
        {
          "data": {
            "image/png": "[encoded data removed]",
            "text/plain": [
              "<Figure size 640x480 with 1 Axes>"
            ]
          },
          "metadata": {},
          "output_type": "display_data"
        }
      ],
      "source": [
        "plt.plot(range(best_itr),best_cost_data, color=\"b\", linestyle='--')\n",
        "plt.xlabel(\"Iteration\")\n",
        "plt.ylabel(\"Cost function\")\n",
        "plt.grid()\n",
        "plt.show()"
      ]
    },
    {
      "cell_type": "markdown",
      "metadata": {
        "id": "uLMsc_BANSrP"
      },
      "source": [
        "#### MSE"
      ]
    },
    {
      "cell_type": "code",
      "execution_count": 232,
      "metadata": {
        "colab": {
          "base_uri": "https://localhost:8080/"
        },
        "id": "SAVjEneLMMfS",
        "outputId": "239ff7bd-1e6e-48cf-cbc0-932361293cf6"
      },
      "outputs": [
        {
          "name": "stdout",
          "output_type": "stream",
          "text": [
            "MSE Train :0.006509206198334206 , MSE Test:0.014298656330369003\n"
          ]
        }
      ],
      "source": [
        "predict_cost_train = mean_squared_error(X_train_with_bias @ best_theta, Y_train)\n",
        "predict_cost_test = mean_squared_error(X_test_with_bias @ best_theta, Y_test)\n",
        "\n",
        "print(f\"MSE Train :{predict_cost_train} , MSE Test:{predict_cost_test}\")"
      ]
    },
    {
      "cell_type": "markdown",
      "metadata": {},
      "source": [
        "#### Regression Line"
      ]
    },
    {
      "cell_type": "code",
      "execution_count": 233,
      "metadata": {},
      "outputs": [],
      "source": [
        "regression_line_train = X_train_with_bias @ best_theta\n",
        "regression_line_test = X_test_with_bias @ best_theta"
      ]
    },
    {
      "cell_type": "markdown",
      "metadata": {},
      "source": [
        "#### Plot"
      ]
    },
    {
      "cell_type": "code",
      "execution_count": 234,
      "metadata": {
        "colab": {
          "base_uri": "https://localhost:8080/",
          "height": 466
        },
        "id": "V1MFO7-vYR9c",
        "outputId": "6eba86e4-d008-4e79-e5b5-77e71156fbf2"
      },
      "outputs": [
        {
          "data": {
            "image/png": "[encoded data removed]",
            "text/plain": [
              "<Figure size 640x480 with 1 Axes>"
            ]
          },
          "metadata": {},
          "output_type": "display_data"
        }
      ],
      "source": [
        "plt.scatter(X_train_normalized, Y_train)\n",
        "plt.scatter(X_test_normalized, Y_test,color=\"r\")\n",
        "plt.plot([min(X_train_normalized), max(X_test_normalized)], [regression_line_train.min(), regression_line_test.max()], color='green')  # regression line\n",
        "plt.xlabel(\"CO2\")\n",
        "plt.ylabel(\"Temp\")\n",
        "plt.legend([\"Train\",\"Test\",\"Regression Line\"])\n",
        "plt.grid()\n",
        "plt.show()"
      ]
    },
    {
      "cell_type": "markdown",
      "metadata": {
        "id": "83oGEHM8YR9c"
      },
      "source": [
        "#### 6.8 Implement linear regression from scratch using the closed form solution"
      ]
    },
    {
      "cell_type": "code",
      "execution_count": 235,
      "metadata": {
        "id": "-jwxwXO8YR9d"
      },
      "outputs": [],
      "source": [
        "theta = np.linalg.inv(X_train_with_bias.T @ X_train_with_bias) @ X_train_with_bias.T @ Y_train"
      ]
    },
    {
      "cell_type": "markdown",
      "metadata": {
        "id": "BD8q_i0SM1yj"
      },
      "source": [
        "#### Report parameters"
      ]
    },
    {
      "cell_type": "code",
      "execution_count": 236,
      "metadata": {
        "colab": {
          "base_uri": "https://localhost:8080/",
          "height": 112
        },
        "id": "rzPyuorRYR9d",
        "outputId": "11d73a7c-e324-449c-804b-d222aba8d264"
      },
      "outputs": [
        {
          "data": {
            "text/plain": [
              "array([0.21878629, 0.13113948])"
            ]
          },
          "execution_count": 236,
          "metadata": {},
          "output_type": "execute_result"
        }
      ],
      "source": [
        "theta"
      ]
    },
    {
      "cell_type": "markdown",
      "metadata": {
        "id": "dYR6_xA5NV1u"
      },
      "source": [
        "#### Regression Line"
      ]
    },
    {
      "cell_type": "code",
      "execution_count": 237,
      "metadata": {
        "id": "49Tz5bFxYR9d"
      },
      "outputs": [],
      "source": [
        "regression_line_train = X_train_with_bias @ theta\n",
        "regression_line_test = X_test_with_bias @ theta"
      ]
    },
    {
      "cell_type": "markdown",
      "metadata": {
        "id": "1Z4704wUNYUF"
      },
      "source": [
        "#### MSE"
      ]
    },
    {
      "cell_type": "code",
      "execution_count": 238,
      "metadata": {
        "colab": {
          "base_uri": "https://localhost:8080/"
        },
        "id": "5qzUdQxpNbe8",
        "outputId": "0c0eeae8-7d7e-4271-c6b4-59a4539e0a23"
      },
      "outputs": [
        {
          "name": "stdout",
          "output_type": "stream",
          "text": [
            "MSE Train :0.006509206198334206 , MSE Test:0.01429865634398411\n"
          ]
        }
      ],
      "source": [
        "predict_cost_train = mean_squared_error(X_train_with_bias @ theta, Y_train)\n",
        "\n",
        "\n",
        "predict_cost_test = mean_squared_error(X_test_with_bias @ theta, Y_test)\n",
        "\n",
        "\n",
        "print(f\"MSE Train :{predict_cost_train} , MSE Test:{predict_cost_test}\")"
      ]
    },
    {
      "cell_type": "markdown",
      "metadata": {},
      "source": [
        "#### Plot"
      ]
    },
    {
      "cell_type": "code",
      "execution_count": 239,
      "metadata": {
        "colab": {
          "base_uri": "https://localhost:8080/",
          "height": 449
        },
        "id": "2F6Iu6h_YR9d",
        "outputId": "a910987a-913a-45a9-c15b-30be72dd67e7"
      },
      "outputs": [
        {
          "data": {
            "image/png": "[encoded data removed]",
            "text/plain": [
              "<Figure size 640x480 with 1 Axes>"
            ]
          },
          "metadata": {},
          "output_type": "display_data"
        }
      ],
      "source": [
        "plt.scatter(X_train_normalized, Y_train)\n",
        "plt.scatter(X_test_normalized, Y_test,color=\"r\")\n",
        "plt.plot([min(X_train_normalized), max(X_test_normalized)], [regression_line_train.min(), regression_line_test.max()], color='green')  # regression line\n",
        "plt.xlabel(\"CO2\")\n",
        "plt.ylabel(\"Temp\")\n",
        "plt.legend([\"Train\",\"Test\",\"Regression Line\"])\n",
        "plt.grid()\n",
        "plt.show()"
      ]
    }
  ],
  "metadata": {
    "colab": {
      "collapsed_sections": [
        "lcZYCvNwYR9S"
      ],
      "provenance": [],
      "toc_visible": true
    },
    "kernelspec": {
      "display_name": "Python 3",
      "language": "python",
      "name": "python3"
    },
    "language_info": {
      "codemirror_mode": {
        "name": "ipython",
        "version": 3
      },
      "file_extension": ".py",
      "mimetype": "text/x-python",
      "name": "python",
      "nbconvert_exporter": "python",
      "pygments_lexer": "ipython3",
      "version": "3.11.5"
    }
  },
  "nbformat": 4,
  "nbformat_minor": 0
}
